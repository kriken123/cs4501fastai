{
 "cells": [
  {
   "cell_type": "markdown",
   "id": "3543b154",
   "metadata": {},
   "source": [
    "# Price of Diamonds\n",
    "\n",
    "\n",
    "- toc: true\n",
    "- branch: master\n",
    "- badges: true\n",
    "- comments: true\n",
    "- author: Christin Choi\n",
    "- categories: [fastpages, jupyter]\n",
    "\n",
    "## 1 Introduction\n",
    "Diamonds are forever is the revolutionary slogan of DeBeers' most famous ad campaign in 1947.  Their slogan still rings true today. I remember watching their commercials as a kid the shadows of couples playing out their life changing moments on the tv screen and the only thing the ad shows ultimately is the diamond ring.  Even before these ads played in front of me I have always been entranced by these sparkly rocks.  I suppose it's the girly girl in me wanting shiny sparkly things... not so different than a bird I suppose. The tv ads just cemented my shallow childish wants for the future.  Romance and wealth. \n",
    "\n",
    "### 1.1 Who am I?\n",
    "Including this section since it was in an example.  I am, dare I say it, a middle aged woman who in 2021 got engaged, married and popped out a baby.  I'm not much of a planner, but this was not my plan.  I was laid off at the end of 2020 was enjoying my time off with a nice severance package when the events of 2021 transpired (pregnancy) and so going back into the workforce was not my top priority.  In any case, I had an opportunity to be funded for training hence the enrollment in this class.  I've been interested in learning about becoming a data analyst so a certificate in data science seemed close enough and a good idea. Forget the fact that I have an infant to take care of, horrible time management skills and of course my academic career was like pulling teeth for me. All these personal life events lead to the motivation for this topic.\n",
    "\n",
    "### 1.2 Motivation \n",
    "My personal motivation to study this topic is a bit frivolous.  I've always been captivated by the sparkly gems ever since I was a tiny tot.  Dreamt of having my own 'rock' when I got married.  However, the fates did not allow for this.  I found a man who thought the whole idea of a diamond engagement ring to be a scam.  It is most likely true since we all know DeBeers  creates an artificial scarcity of the stone and their famous marketing strategy to convince the world we all needed a diamond engagement ring. But in any case, diamonds still captivate my attention.  According to the latest news articles diamonds are still in high demand as indicated by the current rising prices, so it is of public interest what determines the price of diamonds. \n",
    "My fiance/husband indulged the diamond shopping portion although ultimately we did not purchase a mined diamond. I learned this after the fact, but at one point we were at a jewelry store and the saleswoman was trying to sell us on a Forevermark diamond.  Forevermark diamond is \"hand selected and hand crafted.  Less than 1% of diamonds are eligbile to be Forevermark.\" My fiance looked at me and said something along the lines of is this the diamond of your dreams?  I looked at the price tag and knew right off it was over-priced and the bargain shopper in me could not agree to this. So I declined the diamond.  Who knew that was my one and only chance for a mined diamond. Insert crying emoji here.  I learned after we were married that he was going to buy it so he could propose to me when we were visiting my family for Thanksgiving on the East coast. He was running out of time when we were at the jewelry store so he was just going to buy it. But I guess it wasn't meant to be. \n",
    "So the final project question is can we predict the diamond price based on any of its features.\n",
    "\n",
    "## 2 Methods\n",
    "\n",
    "### 2.1 Data Source\n",
    "\n",
    "The data set I found on Kaggle was a simple .csv file titled 'Diamond Prices2022.csv'.  The dataset looked at the attributes of approximately 54,000 round cut diamonds. The ten features include carat, cut, color, clarity, depth, table, price, x (length in mm), y (width in mm), and z (depth in mm).  Prices were in U.S. dollars ($). \n",
    "\n",
    "**Feature Descriptions:**\n",
    "Price: in U.S. dollars ($326-$18,823)\n",
    "\n",
    "**Carat**: The physical weight of the diamonds are measured in carats. The diamonds in the data range from 0.2-5.01 carats. One carat equals 1/5 of a gram and is subdivided into 100 points. \n",
    "\n",
    "**Cut**: The grading of the cut ranges from Fair, Good, Very Good, Premium, Ideal.  A diamond’s cut refers to how well-proportioned the dimensions of a diamond are, and how these surfaces, or facets, are positioned to create sparkle and brilliance (www.bluenile.com/education/diamonds/cut/).\n",
    "\n",
    "**Clarity**: The grading of the clarity ranges from I1,SI2,SI1,VS2,VS1,VVS2,VVS1,IF(internally flawless) in the dataset. I1 being the Included diamonds.  They have obvious inclusions that are likely visible to the naked eye.\n",
    "\n",
    "**Dimensions (x length, y width, z depth - in mm)**\n",
    "Depth Total Depth Percentage = z / mean(x, y) = 2 * z / (x + y) (43--79) The depth of the diamond is its height (in mm) measured from the culet (bottom tip) to the table (flat, top surface).\n",
    "\n",
    "Table width of the top of the diamond relative to widest point (43--95)\n",
    "\n",
    "A diamond's table refers to the flat facet of the diamond seen when the stone is face up. The main purpose of a diamond table is to refract entering light rays and allow reflected light rays from within the diamond to meet the observer’s eye. The ideal table cut diamond will give the diamond stunning fire and brilliance.\n",
    "\n",
    "\n",
    "### 2.2 Methods\n",
    "\n",
    "Began by importing the libraries.  "
   ]
  },
  {
   "cell_type": "code",
   "execution_count": 1,
   "id": "e1bdfd3c",
   "metadata": {},
   "outputs": [],
   "source": [
    "import pandas as pd\n",
    "import matplotlib.pyplot as plt\n",
    "import numpy as np\n",
    "import ipywidgets\n",
    "import plotly.graph_objects as go\n",
    "\n",
    "import sklearn.datasets\n",
    "import sklearn.cluster\n",
    "import sklearn.linear_model\n",
    "import sklearn.model_selection\n",
    "from sklearn.model_selection import train_test_split\n",
    "from sklearn.metrics import mean_squared_error, r2_score\n",
    "from sklearn.ensemble import RandomForestRegressor"
   ]
  },
  {
   "cell_type": "markdown",
   "id": "2e6a171c",
   "metadata": {},
   "source": [
    "Loading the data and looked at the head, description, info.  Also checked for any null data. Dropped the first column as it was just the index. Filtered out min values of 0 for x, y, and z.  They indicate faulty values in the data since 0 would mean it was without dimension or only 2D. \n",
    "\n",
    "Used the scatterplot to plot the numerical categories against the price.  Found the highest correlation coefficient to be carat or weight of diamond. From there used linear regression from sklearn to train/test the data."
   ]
  },
  {
   "cell_type": "code",
   "execution_count": 2,
   "id": "7133d169",
   "metadata": {},
   "outputs": [],
   "source": [
    "#loaded data\n",
    "diamond=pd.read_csv('Diamonds Prices2022.csv')"
   ]
  },
  {
   "cell_type": "code",
   "execution_count": 3,
   "id": "2cad0b66",
   "metadata": {},
   "outputs": [
    {
     "data": {
      "text/html": [
       "<div>\n",
       "<style scoped>\n",
       "    .dataframe tbody tr th:only-of-type {\n",
       "        vertical-align: middle;\n",
       "    }\n",
       "\n",
       "    .dataframe tbody tr th {\n",
       "        vertical-align: top;\n",
       "    }\n",
       "\n",
       "    .dataframe thead th {\n",
       "        text-align: right;\n",
       "    }\n",
       "</style>\n",
       "<table border=\"1\" class=\"dataframe\">\n",
       "  <thead>\n",
       "    <tr style=\"text-align: right;\">\n",
       "      <th></th>\n",
       "      <th>Unnamed: 0</th>\n",
       "      <th>carat</th>\n",
       "      <th>cut</th>\n",
       "      <th>color</th>\n",
       "      <th>clarity</th>\n",
       "      <th>depth</th>\n",
       "      <th>table</th>\n",
       "      <th>price</th>\n",
       "      <th>x</th>\n",
       "      <th>y</th>\n",
       "      <th>z</th>\n",
       "    </tr>\n",
       "  </thead>\n",
       "  <tbody>\n",
       "    <tr>\n",
       "      <th>0</th>\n",
       "      <td>1</td>\n",
       "      <td>0.23</td>\n",
       "      <td>Ideal</td>\n",
       "      <td>E</td>\n",
       "      <td>SI2</td>\n",
       "      <td>61.5</td>\n",
       "      <td>55.0</td>\n",
       "      <td>326</td>\n",
       "      <td>3.95</td>\n",
       "      <td>3.98</td>\n",
       "      <td>2.43</td>\n",
       "    </tr>\n",
       "    <tr>\n",
       "      <th>1</th>\n",
       "      <td>2</td>\n",
       "      <td>0.21</td>\n",
       "      <td>Premium</td>\n",
       "      <td>E</td>\n",
       "      <td>SI1</td>\n",
       "      <td>59.8</td>\n",
       "      <td>61.0</td>\n",
       "      <td>326</td>\n",
       "      <td>3.89</td>\n",
       "      <td>3.84</td>\n",
       "      <td>2.31</td>\n",
       "    </tr>\n",
       "    <tr>\n",
       "      <th>2</th>\n",
       "      <td>3</td>\n",
       "      <td>0.23</td>\n",
       "      <td>Good</td>\n",
       "      <td>E</td>\n",
       "      <td>VS1</td>\n",
       "      <td>56.9</td>\n",
       "      <td>65.0</td>\n",
       "      <td>327</td>\n",
       "      <td>4.05</td>\n",
       "      <td>4.07</td>\n",
       "      <td>2.31</td>\n",
       "    </tr>\n",
       "    <tr>\n",
       "      <th>3</th>\n",
       "      <td>4</td>\n",
       "      <td>0.29</td>\n",
       "      <td>Premium</td>\n",
       "      <td>I</td>\n",
       "      <td>VS2</td>\n",
       "      <td>62.4</td>\n",
       "      <td>58.0</td>\n",
       "      <td>334</td>\n",
       "      <td>4.20</td>\n",
       "      <td>4.23</td>\n",
       "      <td>2.63</td>\n",
       "    </tr>\n",
       "    <tr>\n",
       "      <th>4</th>\n",
       "      <td>5</td>\n",
       "      <td>0.31</td>\n",
       "      <td>Good</td>\n",
       "      <td>J</td>\n",
       "      <td>SI2</td>\n",
       "      <td>63.3</td>\n",
       "      <td>58.0</td>\n",
       "      <td>335</td>\n",
       "      <td>4.34</td>\n",
       "      <td>4.35</td>\n",
       "      <td>2.75</td>\n",
       "    </tr>\n",
       "  </tbody>\n",
       "</table>\n",
       "</div>"
      ],
      "text/plain": [
       "   Unnamed: 0  carat      cut color clarity  depth  table  price     x     y  \\\n",
       "0           1   0.23    Ideal     E     SI2   61.5   55.0    326  3.95  3.98   \n",
       "1           2   0.21  Premium     E     SI1   59.8   61.0    326  3.89  3.84   \n",
       "2           3   0.23     Good     E     VS1   56.9   65.0    327  4.05  4.07   \n",
       "3           4   0.29  Premium     I     VS2   62.4   58.0    334  4.20  4.23   \n",
       "4           5   0.31     Good     J     SI2   63.3   58.0    335  4.34  4.35   \n",
       "\n",
       "      z  \n",
       "0  2.43  \n",
       "1  2.31  \n",
       "2  2.31  \n",
       "3  2.63  \n",
       "4  2.75  "
      ]
     },
     "execution_count": 3,
     "metadata": {},
     "output_type": "execute_result"
    }
   ],
   "source": [
    "diamond.head()"
   ]
  },
  {
   "cell_type": "code",
   "execution_count": 4,
   "id": "708c9753",
   "metadata": {},
   "outputs": [
    {
     "data": {
      "text/html": [
       "<div>\n",
       "<style scoped>\n",
       "    .dataframe tbody tr th:only-of-type {\n",
       "        vertical-align: middle;\n",
       "    }\n",
       "\n",
       "    .dataframe tbody tr th {\n",
       "        vertical-align: top;\n",
       "    }\n",
       "\n",
       "    .dataframe thead th {\n",
       "        text-align: right;\n",
       "    }\n",
       "</style>\n",
       "<table border=\"1\" class=\"dataframe\">\n",
       "  <thead>\n",
       "    <tr style=\"text-align: right;\">\n",
       "      <th></th>\n",
       "      <th>Unnamed: 0</th>\n",
       "      <th>carat</th>\n",
       "      <th>depth</th>\n",
       "      <th>table</th>\n",
       "      <th>price</th>\n",
       "      <th>x</th>\n",
       "      <th>y</th>\n",
       "      <th>z</th>\n",
       "    </tr>\n",
       "  </thead>\n",
       "  <tbody>\n",
       "    <tr>\n",
       "      <th>count</th>\n",
       "      <td>53943.000000</td>\n",
       "      <td>53943.000000</td>\n",
       "      <td>53943.000000</td>\n",
       "      <td>53943.000000</td>\n",
       "      <td>53943.000000</td>\n",
       "      <td>53943.000000</td>\n",
       "      <td>53943.000000</td>\n",
       "      <td>53943.000000</td>\n",
       "    </tr>\n",
       "    <tr>\n",
       "      <th>mean</th>\n",
       "      <td>26972.000000</td>\n",
       "      <td>0.797935</td>\n",
       "      <td>61.749322</td>\n",
       "      <td>57.457251</td>\n",
       "      <td>3932.734294</td>\n",
       "      <td>5.731158</td>\n",
       "      <td>5.734526</td>\n",
       "      <td>3.538730</td>\n",
       "    </tr>\n",
       "    <tr>\n",
       "      <th>std</th>\n",
       "      <td>15572.147122</td>\n",
       "      <td>0.473999</td>\n",
       "      <td>1.432626</td>\n",
       "      <td>2.234549</td>\n",
       "      <td>3989.338447</td>\n",
       "      <td>1.121730</td>\n",
       "      <td>1.142103</td>\n",
       "      <td>0.705679</td>\n",
       "    </tr>\n",
       "    <tr>\n",
       "      <th>min</th>\n",
       "      <td>1.000000</td>\n",
       "      <td>0.200000</td>\n",
       "      <td>43.000000</td>\n",
       "      <td>43.000000</td>\n",
       "      <td>326.000000</td>\n",
       "      <td>0.000000</td>\n",
       "      <td>0.000000</td>\n",
       "      <td>0.000000</td>\n",
       "    </tr>\n",
       "    <tr>\n",
       "      <th>25%</th>\n",
       "      <td>13486.500000</td>\n",
       "      <td>0.400000</td>\n",
       "      <td>61.000000</td>\n",
       "      <td>56.000000</td>\n",
       "      <td>950.000000</td>\n",
       "      <td>4.710000</td>\n",
       "      <td>4.720000</td>\n",
       "      <td>2.910000</td>\n",
       "    </tr>\n",
       "    <tr>\n",
       "      <th>50%</th>\n",
       "      <td>26972.000000</td>\n",
       "      <td>0.700000</td>\n",
       "      <td>61.800000</td>\n",
       "      <td>57.000000</td>\n",
       "      <td>2401.000000</td>\n",
       "      <td>5.700000</td>\n",
       "      <td>5.710000</td>\n",
       "      <td>3.530000</td>\n",
       "    </tr>\n",
       "    <tr>\n",
       "      <th>75%</th>\n",
       "      <td>40457.500000</td>\n",
       "      <td>1.040000</td>\n",
       "      <td>62.500000</td>\n",
       "      <td>59.000000</td>\n",
       "      <td>5324.000000</td>\n",
       "      <td>6.540000</td>\n",
       "      <td>6.540000</td>\n",
       "      <td>4.040000</td>\n",
       "    </tr>\n",
       "    <tr>\n",
       "      <th>max</th>\n",
       "      <td>53943.000000</td>\n",
       "      <td>5.010000</td>\n",
       "      <td>79.000000</td>\n",
       "      <td>95.000000</td>\n",
       "      <td>18823.000000</td>\n",
       "      <td>10.740000</td>\n",
       "      <td>58.900000</td>\n",
       "      <td>31.800000</td>\n",
       "    </tr>\n",
       "  </tbody>\n",
       "</table>\n",
       "</div>"
      ],
      "text/plain": [
       "         Unnamed: 0         carat         depth         table         price  \\\n",
       "count  53943.000000  53943.000000  53943.000000  53943.000000  53943.000000   \n",
       "mean   26972.000000      0.797935     61.749322     57.457251   3932.734294   \n",
       "std    15572.147122      0.473999      1.432626      2.234549   3989.338447   \n",
       "min        1.000000      0.200000     43.000000     43.000000    326.000000   \n",
       "25%    13486.500000      0.400000     61.000000     56.000000    950.000000   \n",
       "50%    26972.000000      0.700000     61.800000     57.000000   2401.000000   \n",
       "75%    40457.500000      1.040000     62.500000     59.000000   5324.000000   \n",
       "max    53943.000000      5.010000     79.000000     95.000000  18823.000000   \n",
       "\n",
       "                  x             y             z  \n",
       "count  53943.000000  53943.000000  53943.000000  \n",
       "mean       5.731158      5.734526      3.538730  \n",
       "std        1.121730      1.142103      0.705679  \n",
       "min        0.000000      0.000000      0.000000  \n",
       "25%        4.710000      4.720000      2.910000  \n",
       "50%        5.700000      5.710000      3.530000  \n",
       "75%        6.540000      6.540000      4.040000  \n",
       "max       10.740000     58.900000     31.800000  "
      ]
     },
     "execution_count": 4,
     "metadata": {},
     "output_type": "execute_result"
    }
   ],
   "source": [
    "diamond.describe()"
   ]
  },
  {
   "cell_type": "code",
   "execution_count": 5,
   "id": "196d4a72",
   "metadata": {},
   "outputs": [
    {
     "name": "stdout",
     "output_type": "stream",
     "text": [
      "<class 'pandas.core.frame.DataFrame'>\n",
      "RangeIndex: 53943 entries, 0 to 53942\n",
      "Data columns (total 11 columns):\n",
      " #   Column      Non-Null Count  Dtype  \n",
      "---  ------      --------------  -----  \n",
      " 0   Unnamed: 0  53943 non-null  int64  \n",
      " 1   carat       53943 non-null  float64\n",
      " 2   cut         53943 non-null  object \n",
      " 3   color       53943 non-null  object \n",
      " 4   clarity     53943 non-null  object \n",
      " 5   depth       53943 non-null  float64\n",
      " 6   table       53943 non-null  float64\n",
      " 7   price       53943 non-null  int64  \n",
      " 8   x           53943 non-null  float64\n",
      " 9   y           53943 non-null  float64\n",
      " 10  z           53943 non-null  float64\n",
      "dtypes: float64(6), int64(2), object(3)\n",
      "memory usage: 4.5+ MB\n"
     ]
    }
   ],
   "source": [
    "diamond.info()"
   ]
  },
  {
   "cell_type": "code",
   "execution_count": 6,
   "id": "1443d181",
   "metadata": {},
   "outputs": [
    {
     "data": {
      "text/plain": [
       "Unnamed: 0    0\n",
       "carat         0\n",
       "cut           0\n",
       "color         0\n",
       "clarity       0\n",
       "depth         0\n",
       "table         0\n",
       "price         0\n",
       "x             0\n",
       "y             0\n",
       "z             0\n",
       "dtype: int64"
      ]
     },
     "execution_count": 6,
     "metadata": {},
     "output_type": "execute_result"
    }
   ],
   "source": [
    "#Check for null values:\n",
    "diamond.isnull().sum()"
   ]
  },
  {
   "cell_type": "code",
   "execution_count": 7,
   "id": "1e097fe3",
   "metadata": {},
   "outputs": [],
   "source": [
    "#Dropped the first column as it was unecessary\n",
    "diamond.drop('Unnamed: 0', axis=1, inplace=True)"
   ]
  },
  {
   "cell_type": "code",
   "execution_count": 8,
   "id": "cc5c8268",
   "metadata": {},
   "outputs": [
    {
     "data": {
      "text/plain": [
       "(53923, 10)"
      ]
     },
     "execution_count": 8,
     "metadata": {},
     "output_type": "execute_result"
    }
   ],
   "source": [
    "#Dropping dimensionless diamonds\n",
    "diamond = diamond.drop(diamond[diamond[\"x\"]==0].index)\n",
    "diamond = diamond.drop(diamond[diamond[\"y\"]==0].index)\n",
    "diamond = diamond.drop(diamond[diamond[\"z\"]==0].index)\n",
    "diamond.shape"
   ]
  },
  {
   "cell_type": "code",
   "execution_count": 9,
   "id": "f1128440",
   "metadata": {},
   "outputs": [],
   "source": [
    "#Set x and y:\n",
    "x= diamond.drop(['price'],axis=1)\n",
    "y= diamond.price"
   ]
  },
  {
   "cell_type": "code",
   "execution_count": 10,
   "id": "f3f04df4",
   "metadata": {},
   "outputs": [
    {
     "name": "stdout",
     "output_type": "stream",
     "text": [
      "(53923, 9)\n",
      "(53923,)\n",
      "2\n",
      "1\n",
      "485307\n",
      "53923\n"
     ]
    }
   ],
   "source": [
    "print(x.shape)\n",
    "print(y.shape)\n",
    "print(x.ndim)\n",
    "print(y.ndim)\n",
    "print(x.size)\n",
    "print(y.size)"
   ]
  },
  {
   "cell_type": "code",
   "execution_count": 11,
   "id": "07b8ab94",
   "metadata": {},
   "outputs": [
    {
     "data": {
      "image/png": "[encoded data removed]",
      "text/plain": [
       "<Figure size 432x288 with 1 Axes>"
      ]
     },
     "metadata": {
      "needs_background": "light"
     },
     "output_type": "display_data"
    },
    {
     "data": {
      "image/png": "[encoded data removed]",
      "text/plain": [
       "<Figure size 432x288 with 1 Axes>"
      ]
     },
     "metadata": {
      "needs_background": "light"
     },
     "output_type": "display_data"
    },
    {
     "data": {
      "image/png": "[encoded data removed]",
      "text/plain": [
       "<Figure size 432x288 with 1 Axes>"
      ]
     },
     "metadata": {
      "needs_background": "light"
     },
     "output_type": "display_data"
    },
    {
     "data": {
      "image/png": "[encoded data removed]",
      "text/plain": [
       "<Figure size 432x288 with 1 Axes>"
      ]
     },
     "metadata": {
      "needs_background": "light"
     },
     "output_type": "display_data"
    },
    {
     "data": {
      "image/png": "[encoded data removed]",
      "text/plain": [
       "<Figure size 432x288 with 1 Axes>"
      ]
     },
     "metadata": {
      "needs_background": "light"
     },
     "output_type": "display_data"
    },
    {
     "data": {
      "image/png": "[encoded data removed]",
      "text/plain": [
       "<Figure size 432x288 with 1 Axes>"
      ]
     },
     "metadata": {
      "needs_background": "light"
     },
     "output_type": "display_data"
    },
    {
     "data": {
      "image/png": "[encoded data removed]",
      "text/plain": [
       "<Figure size 432x288 with 1 Axes>"
      ]
     },
     "metadata": {
      "needs_background": "light"
     },
     "output_type": "display_data"
    },
    {
     "data": {
      "image/png": "[encoded data removed]",
      "text/plain": [
       "<Figure size 432x288 with 1 Axes>"
      ]
     },
     "metadata": {
      "needs_background": "light"
     },
     "output_type": "display_data"
    },
    {
     "data": {
      "image/png": "[encoded data removed]",
      "text/plain": [
       "<Figure size 432x288 with 1 Axes>"
      ]
     },
     "metadata": {
      "needs_background": "light"
     },
     "output_type": "display_data"
    }
   ],
   "source": [
    "#Used a scatter plot to see what the data looked like when plotting features vs price:\n",
    "for i in range (x.shape[1]):\n",
    "    plt.scatter(x.values[:,i],y)\n",
    "    plt.show()"
   ]
  },
  {
   "cell_type": "code",
   "execution_count": 12,
   "id": "d8208c49",
   "metadata": {},
   "outputs": [
    {
     "name": "stdout",
     "output_type": "stream",
     "text": [
      "<class 'numpy.ndarray'>\n",
      "<class 'pandas.core.series.Series'>\n",
      "(53923,)\n",
      "(53923,)\n",
      "object\n",
      "int64\n",
      "[[1.         0.92159204]\n",
      " [0.92159204 1.        ]]\n",
      "[[ 1.         -0.01071159]\n",
      " [-0.01071159  1.        ]]\n",
      "[[1.         0.12722925]\n",
      " [0.12722925 1.        ]]\n"
     ]
    }
   ],
   "source": [
    "#np.corrcoef(x.values[:,1],y)\n",
    "print(type(x.values[:,0]))\n",
    "print(type(y))\n",
    "print(x.values[:,0].shape)\n",
    "print(y.shape)\n",
    "print(x.values[:,0].dtype)\n",
    "print(y.dtype)\n",
    "\n",
    "print(np.corrcoef(x.values[:,0].astype(float),y.astype(float)))\n",
    "print(np.corrcoef(x.values[:,4].astype(float),y.astype(float)))\n",
    "print(np.corrcoef(x.values[:,5].astype(float),y.astype(float)))   "
   ]
  },
  {
   "cell_type": "code",
   "execution_count": 17,
   "id": "09836f11",
   "metadata": {},
   "outputs": [
    {
     "data": {
      "text/plain": [
       "price    1.000000\n",
       "carat    0.921592\n",
       "x        0.887229\n",
       "z        0.868206\n",
       "y        0.867862\n",
       "table    0.127229\n",
       "depth   -0.010712\n",
       "Name: price, dtype: float64"
      ]
     },
     "execution_count": 17,
     "metadata": {},
     "output_type": "execute_result"
    }
   ],
   "source": [
    "#Looked at the correlation between each numerical feature -- carat having the highest correlation\n",
    "diamond.corr()['price'].sort_values(ascending=False)"
   ]
  },
  {
   "cell_type": "code",
   "execution_count": 18,
   "id": "271d2014",
   "metadata": {},
   "outputs": [],
   "source": [
    "#Carat had the highest correlation to the price. \n",
    "#Used linear regression machine learning to predict diamond prices based on carat size\n",
    "\n",
    "x=diamond.drop(columns='price')\n",
    "y=diamond['price']\n",
    "\n",
    "x_train, x_test, y_train, y_test = train_test_split(x, y, test_size=0.2)\n"
   ]
  },
  {
   "cell_type": "code",
   "execution_count": 19,
   "id": "ee272268",
   "metadata": {},
   "outputs": [
    {
     "name": "stdout",
     "output_type": "stream",
     "text": [
      "Training features Index(['carat', 'cut', 'color', 'clarity', 'depth', 'table', 'x', 'y', 'z'], dtype='object')\n",
      "Training set shape (43138, 9)\n",
      "Test set shape (10785, 9)\n"
     ]
    }
   ],
   "source": [
    "print('Training features', x_train.columns)\n",
    "print('Training set shape', x_train.shape)\n",
    "print('Test set shape', x_test.shape)"
   ]
  },
  {
   "cell_type": "code",
   "execution_count": 20,
   "id": "e66e810e",
   "metadata": {},
   "outputs": [],
   "source": [
    "x_train_transformed = x_train.iloc[:,0].to_numpy().reshape(-1,1)\n",
    "x_test_transformed = x_test.iloc[:,0].to_numpy().reshape(-1,1)\n"
   ]
  },
  {
   "cell_type": "code",
   "execution_count": 21,
   "id": "80ab032d",
   "metadata": {},
   "outputs": [
    {
     "data": {
      "text/plain": [
       "LinearRegression()"
      ]
     },
     "execution_count": 21,
     "metadata": {},
     "output_type": "execute_result"
    }
   ],
   "source": [
    "model = sklearn.linear_model.LinearRegression()\n",
    "model.fit(x_train_transformed,y_train)"
   ]
  },
  {
   "cell_type": "code",
   "execution_count": 22,
   "id": "c20c1c47",
   "metadata": {},
   "outputs": [
    {
     "name": "stdout",
     "output_type": "stream",
     "text": [
      "-2249.9287887424957\n",
      "[7742.87053545]\n"
     ]
    }
   ],
   "source": [
    "# for Linear Regression\n",
    "print(model.intercept_)\n",
    "print(model.coef_)"
   ]
  },
  {
   "cell_type": "code",
   "execution_count": 23,
   "id": "f4750fdd",
   "metadata": {},
   "outputs": [
    {
     "data": {
      "image/png": "[encoded data removed]",
      "text/plain": [
       "<Figure size 432x288 with 1 Axes>"
      ]
     },
     "metadata": {
      "needs_background": "light"
     },
     "output_type": "display_data"
    }
   ],
   "source": [
    "# for Linear Regression\n",
    "\n",
    "x_eq= np.linspace(0,5,10)\n",
    "\n",
    "plt.scatter(x_train.iloc[:,0],y_train,color='red')\n",
    "plt.scatter(x_test.iloc[:,0],y_test,color='blue')\n",
    "\n",
    "\n",
    "eq= model.intercept_ + model.coef_*x_eq\n",
    "\n",
    "plt.plot(x_eq,eq, 'k')\n",
    "\n",
    "plt.show()\n"
   ]
  },
  {
   "cell_type": "code",
   "execution_count": 24,
   "id": "ddc62226",
   "metadata": {},
   "outputs": [
    {
     "name": "stdout",
     "output_type": "stream",
     "text": [
      "MSE = 2445492.79\n",
      "R^2 = 0.85\n"
     ]
    }
   ],
   "source": [
    "#y_pred = model.predict(x_test_transformed)\n",
    "y_pred = model.predict(x_test_transformed)\n",
    "print('MSE = %.2f' % mean_squared_error(y_test, y_pred))\n",
    "print('R^2 = %.2f' % r2_score(y_test, y_pred))"
   ]
  },
  {
   "cell_type": "markdown",
   "id": "5eeee80f",
   "metadata": {},
   "source": [
    "The test data showed an R squared of 0.85 which isn't too bad.  You can see from the graph above that even though the line fit was ok and acceptable with a value of 0.85, the higher the carat size the greater the distance from the fit of the line. It leaves a lot to be desired.\n",
    "When shopping for diamonds it is important to consider the 4 C's (cut, carat, clarity, and color). Carat is an obvious factor in determining the price, but from looking at this data it isn't the only attribute that factors into price. \n",
    "One website states cut is the most important factor, however since it is an objective attribute with a human grading the cut it was hard to quantify and input the data for consideration.\n"
   ]
  }
 ],
 "metadata": {
  "kernelspec": {
   "display_name": "Python 3 (ipykernel)",
   "language": "python",
   "name": "python3"
  },
  "language_info": {
   "codemirror_mode": {
    "name": "ipython",
    "version": 3
   },
   "file_extension": ".py",
   "mimetype": "text/x-python",
   "name": "python",
   "nbconvert_exporter": "python",
   "pygments_lexer": "ipython3",
   "version": "3.9.12"
  }
 },
 "nbformat": 4,
 "nbformat_minor": 5
}
